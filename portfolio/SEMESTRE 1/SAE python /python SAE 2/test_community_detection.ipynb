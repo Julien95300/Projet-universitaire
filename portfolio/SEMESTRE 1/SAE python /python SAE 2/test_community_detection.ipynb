{
 "cells": [
  {
   "cell_type": "code",
   "execution_count": 3,
   "id": "527ba3d5",
   "metadata": {},
   "outputs": [
    {
     "name": "stdout",
     "output_type": "stream",
     "text": [
      "ok\n"
     ]
    }
   ],
   "source": [
    "def create_network(list_of_friends):\n",
    "    \n",
    "    dic = {}\n",
    "    i = 0\n",
    "    while i < len(list_of_friends):\n",
    "        if list_of_friends[i] in dic:\n",
    "            dic[list_of_friends[i]].append(list_of_friends[i+1])\n",
    "            if not list_of_friends[i] in dic:\n",
    "                dic[list_of_friends[i+1]].append(list_of_friends[i])\n",
    "            \n",
    "            \n",
    "        else:\n",
    "            dic[list_of_friends[i]] = [list_of_friends[i+1]]\n",
    "            dic[list_of_friends[i+1]] = [list_of_friends[i]]\n",
    "\n",
    "        i += 2\n",
    "  \n",
    "    return dic\n",
    "\n",
    "tab1=[\"Alice\", \"Bob\", \"Alice\", \"Charlie\", \"Bob\", \"Denis\"]\n",
    "tab2= [\"Bonjour\",\"Aurevoir\",\"Bonjour\",\"Bonne nuit\"]\n",
    "tab3=[\"Julien\",\"Suii\",\"Martin\",\"Ronaldo\",\"Madrid\",\"Rodrigo\"]\n",
    "def test_create_network():\n",
    "    assert create_network(tab1) == {'Alice': ['Bob', 'Charlie'], 'Bob': ['Alice', 'Denis']}\n",
    "    assert create_network(tab2) =={'Bonjour': ['Aurevoir', 'Bonne nuit'], 'Aurevoir': ['Bonjour']}\n",
    "    assert create_network(tab3) =={'Julien': ['Suii'],'Suii': ['Julien'],'Martin': ['Ronaldo'],'Ronaldo': ['Martin'],'Madrid': ['Rodrigo'],'Rodrigo': ['Madrid']} \n",
    "    print(\"ok\")\n",
    "    \n",
    "    \n",
    "\n",
    "\n",
    "test_create_network()"
   ]
  },
  {
   "cell_type": "code",
   "execution_count": 4,
   "id": "9cde2fd8",
   "metadata": {},
   "outputs": [
    {
     "name": "stdout",
     "output_type": "stream",
     "text": [
      "ok\n"
     ]
    }
   ],
   "source": [
    "def get_people(network):\n",
    "    \"\"\"retourne la liste des personnes de ce réseau dans un tableau\"\"\"\n",
    "    i=0  # initialisation de la variable i à 0\n",
    "    tab=[] # création d'un tableau vide\n",
    "    cles=list(network) # création d'un tableau avec les clés du dictionnaire network\n",
    "    while i<len(cles): # on rentre dans la boucle si et seulement si i est strictement inférieur à la longueur du tableau cles\n",
    "        tab.append(cles[i]) # on ajoute à la fin du tableau tab la valeur du tableau cles à l'indice i\n",
    "        i+=1 # itération +1\n",
    "    return tab \n",
    "\n",
    "dic1= {'Alice': ['Bob', 'Charlie'], 'Bob': ['Alice', 'Denis'], 'Charlie': ['Bob']}\n",
    "dic2= {'Bonjour': ['Aurevoir', 'Bonne nuit'], 'Aurevoir': ['Bonjour']}\n",
    "dic3= {\n",
    "    \"Alice\" : [\"Bob\", \"Dominique\"],\n",
    "    \"Bob\" : [\"Alice\", \"Dominique\", \"Charlie\"],\n",
    "    \"Charlie\" : [\"Bob\"],\n",
    "    \"Dominique\" : [\"Bob\", \"Alice\"]\n",
    "  }\n",
    "\n",
    "def test_get_people():\n",
    "    assert get_people(dic1) == ['Alice', 'Bob', 'Charlie']\n",
    "    assert get_people(dic2) == ['Bonjour', 'Aurevoir']\n",
    "    assert get_people(dic3) == ['Alice', 'Bob', 'Charlie', 'Dominique']\n",
    "    print(\"ok\")\n",
    "    \n",
    "    \n",
    "test_get_people()"
   ]
  },
  {
   "cell_type": "code",
   "execution_count": 21,
   "id": "194be745",
   "metadata": {},
   "outputs": [
    {
     "name": "stdout",
     "output_type": "stream",
     "text": [
      "ok\n"
     ]
    }
   ],
   "source": [
    "def are_friends(network, person1, person2):\n",
    "    \"\"\" retourne True si les deux personnes sont amies, et False sinon\"\"\"\n",
    "    if person1 not in network:\n",
    "        return False\n",
    "    if person2 not in network:\n",
    "        return False\n",
    "    if person1 in network[person2] and person2 in network[person1]: # si person1 est dans le tableau de valeur de la clé person2 et si person2 est dans le tableau de valeur de la clé person1 \n",
    "        return True\n",
    "        \n",
    "    else:\n",
    "        return False\n",
    "\n",
    "    dic1= {'Alice': ['Bob', 'Charlie'], 'Bob': ['Alice', 'Denis'], 'Charlie': ['Bob']}\n",
    "dic2= {'Bonjour': ['Aurevoir', 'Bonne nuit'], 'Aurevoir': ['Bonjour']}\n",
    "dic3= {\n",
    "    \"Alice\" : [\"Bob\", \"Dominique\"],\n",
    "    \"Bob\" : [\"Alice\", \"Dominique\", \"Charlie\"],\n",
    "    \"Charlie\" : [\"Bob\"],\n",
    "    \"Dominique\" : [\"Bob\", \"Alice\"]\n",
    "  }\n",
    "\n",
    "def test_are_friends():\n",
    "    assert are_friends(dic2,\"Maman\",\"Bob\")==False\n",
    "    assert are_friends(dic1,\"Alice\",\"Bob\")==True\n",
    "    assert are_friends(dic3,\"Cristiano\",\"Bob\")==False\n",
    "    \n",
    "    print(\"ok\")\n",
    "\n",
    "test_are_friends()"
   ]
  },
  {
   "cell_type": "code",
   "execution_count": 5,
   "id": "570e6c2c",
   "metadata": {},
   "outputs": [
    {
     "name": "stdout",
     "output_type": "stream",
     "text": [
      "ok\n"
     ]
    }
   ],
   "source": [
    "def all_his_friends(network, person, group):\n",
    "    \"\"\" retourne True si la personne est amie avec toutes les personnes du groupe, et False sinon.\"\"\"\n",
    "    i=0 #initialisation de la variable i à 0\n",
    "    cles=list(network) # création d'un tableau avec les clés du dictionnaire network\n",
    "    if person not in cles: # Si person n'est pas dans le tableau cles\n",
    "        return False\n",
    "    groupe=0 #initialisation de la variable groupe à 0\n",
    "    while i<len(group): # on rentre dans la boucle si et seulement si i est strictement inférieur à la longueur du tableau group\n",
    "        if group[i] in network[person]: # Si la valeur du tableau group à l'indice i est dans le tableau de valeurs de la clé person \n",
    "            groupe+=1 # groupe +1\n",
    "        i+=1       # itération +1                     \n",
    "    if groupe==len(group): # si groupe est égale à la longueur du tableau group\n",
    "        return True\n",
    "    else:\n",
    "        return False\n",
    "\n",
    "dic1= {'Alice': ['Bob', 'Charlie'], 'Bob': ['Alice', 'Denis'], 'Charlie': ['Bob']}\n",
    "dic2= {'Bonjour': ['Aurevoir', 'Bonne nuit'], 'Aurevoir': ['Bonjour',\"Bonne nuit\"]}\n",
    "dic3= {\n",
    "    \"Alice\" : [\"Bob\", \"Dominique\"],\n",
    "    \"Bob\" : [\"Alice\", \"Dominique\", \"Charlie\"],\n",
    "    \"Charlie\" : [\"Bob\"],\n",
    "    \"Dominique\" : [\"Bob\", \"Alice\"]\n",
    "  }\n",
    "\n",
    "\n",
    "def test_all_his_friends():\n",
    "    assert all_his_friends(dic2, \"Bonjour\", [\"Aurevoir\", \"Bonne nuit\"]) == True\n",
    "    assert all_his_friends(dic1, \"Denis\", [\"Charlie\", \"Dominique\"]) == False\n",
    "    assert all_his_friends(dic3, \"Alice\", [\"Charlie\", \"Dominique\"]) == False\n",
    "  \n",
    "    print(\"ok\")\n",
    "    \n",
    "    \n",
    "    \n",
    "test_all_his_friends()"
   ]
  },
  {
   "cell_type": "code",
   "execution_count": 23,
   "id": "23e79d95",
   "metadata": {},
   "outputs": [
    {
     "name": "stdout",
     "output_type": "stream",
     "text": [
      "ok\n"
     ]
    }
   ],
   "source": [
    "def is_a_community(network, group): \n",
    "    \"\"\"retourne True si ce groupe est une communauté, et False sinon\"\"\"\n",
    "    i=0 # initialisation de la variable i à 0\n",
    "    tab=[]# création d'un tableau vide\n",
    "    while i<len(group): # on rentre dans la boucle si et seulement si i est strictement inférieur à la longueur du tableau group\n",
    "        tab.append(group[i]) # on ajoute à la fin du tableau tab la valeur du tableau group à l'indice i\n",
    "        group.remove(group[i]) # on enlève la valeur du tableau group à l'indice i dans le tableau group\n",
    "        if not all_his_friends(network,tab[i],group): # si l'appelle de lafonction all_his_friends renvoie False\n",
    "            return False\n",
    "        i+=1\n",
    "    return True\n",
    "\n",
    "dic1= {'Alice': ['Bob', 'Charlie'], 'Bob': ['Alice', 'Denis'], 'Charlie': ['Bob']}\n",
    "dic2= {'Bonjour': ['Aurevoir', 'Bonne nuit'], 'Aurevoir': ['Bonjour',\"Bonne nuit\"]}\n",
    "dic3= {\n",
    "    \"Alice\" : [\"Bob\", \"Dominique\"],\n",
    "    \"Bob\" : [\"Alice\", \"Dominique\", \"Charlie\"],\n",
    "    \"Charlie\" : [\"Bob\"],\n",
    "    \"Dominique\" : [\"Bob\", \"Alice\"]\n",
    "  }\n",
    "\n",
    "\n",
    "\n",
    "\n",
    "def test_is_a_community():\n",
    "    assert is_a_community(dic1,[\"Alice\",\"Bob\"] ) == True\n",
    "    assert is_a_community(dic2, [\"Bonjour\",\"Aurevoir\"]) == True \n",
    "    assert is_a_community(dic3, [\"Charlie\",\"Dominique\",\"Alice\"]) == False\n",
    "    \n",
    "    \n",
    "    \n",
    "    print(\"ok\")\n",
    "\n",
    "test_is_a_community()"
   ]
  },
  {
   "cell_type": "code",
   "execution_count": 10,
   "id": "bab02aec",
   "metadata": {},
   "outputs": [
    {
     "name": "stdout",
     "output_type": "stream",
     "text": [
      "ok\n"
     ]
    }
   ],
   "source": [
    "\n",
    "def find_community(network, group):\n",
    "    \"\"\"retourne unecommunauté dans un tableau\"\"\"\n",
    "    tab = [] # création d'un tableau vide\n",
    "    personne = group[0] # la variable personne est égale a la valeur du tableau group à l'indice 0\n",
    "    tab.append(personne) # on ajoute à la fin du tableau tab la valeur personne\n",
    "    i = 1 # initialisation de la variable i à 1\n",
    "    while i < len(group): # on rentre dans la boucle si et seulement si i est strictement inférieur à la longueur du tableau group\n",
    "        if are_friends(network, personne, group[i]): # si l'appelle de fonction are_friends renvoie True\n",
    "            tab.append(group[i]) # on ajoute à la fin du tableau tab la valeur du tableau group à l'indice i\n",
    "        i+=1 # itération +1\n",
    "    return tab\n",
    "\n",
    "dic1= {'Caroline': ['Fatou'], 'Fatou': ['Caroline'], 'Kameto': ['Gotaga'], 'Gotaga': ['Kameto', 'Squeezie'], 'Squeezie': ['Gotaga']} \n",
    "dic2= {'Mamadou': ['Caroline'], 'Caroline': ['Mamadou'], 'Paul': ['Ricardo', 'Loic'], 'Ricardo': ['Paul'], 'Loic': ['Paul']}\n",
    "dic3= {\n",
    "    \"Alice\" : [\"Bob\", \"Dominique\"],\n",
    "    \"Bob\" : [\"Alice\", \"Dominique\", \"Charlie\"],\n",
    "    \"Charlie\" : [\"Bob\"],\n",
    "    \"Dominique\" : [\"Bob\", \"Alice\"]\n",
    "  }\n",
    "\n",
    "\n",
    "\n",
    "def test_find_community():\n",
    "    assert find_community(dic1, [\"Gotaga\",\"Kameto\",\"Squeezie\",\"Fatou\"]) == [\"Gotaga\",\"Kameto\",\"Squeezie\"]\n",
    "    assert find_community(dic2, [\"Mamadou\",\"Caroline\",\"Paul\"]) == [\"Mamadou\",\"Caroline\"]\n",
    "    assert find_community(dic3,[\"Alice\", \"Bob\", \"Charlie\", \"Dominique\"])  == ['Alice', 'Bob', 'Dominique']\n",
    "    print(\"ok\")\n",
    "    \n",
    "    \n",
    "test_find_community()"
   ]
  },
  {
   "cell_type": "code",
   "execution_count": 47,
   "id": "ecdcf8ab",
   "metadata": {},
   "outputs": [
    {
     "name": "stdout",
     "output_type": "stream",
     "text": [
      "ok\n"
     ]
    }
   ],
   "source": [
    "\n",
    "def order_by_decreasing_popularity(network, group):\n",
    "    \"\"\" retourne un tableau groupe en triant le groupe de personnes selon la popularité (nombre d'amis) décroissante\"\"\"\n",
    "    i=0 # initialisation de la variable i à 0\n",
    "    tab=[] # création d'un tableau vide\n",
    "    copy=group.copy() # copie du tableau group stocker dans la variable copy\n",
    "    while i<len(group): # on rentre dans la boucle si et seulement si i est strictement inférieur à la longueur du tableau group\n",
    "        j=0 # initialisation de la variable j à 0\n",
    "        k=0 # initialisation de la variable k à 0\n",
    "        while k<len(copy): # on rentre dans la boucle si et seulement si k est strictement inférieur à la longueur du tableau copy\n",
    "            \n",
    "            \n",
    "            if len(copy[k])<len(copy[j]): # si la longueur de la valeur du tableau copy à l'indice k est strictement inférieur à la longueur de la valeur du tableau copy à l'indice j\n",
    "                 j=k \n",
    "\n",
    "            k+=1 # k +1\n",
    "        tab.append(copy[j]) # on ajoute à la fin du tableau tab la valeur du tableau copy à l'indice i\n",
    "        copy.pop(j) # on supprime la valeur du tableau copy à l'indice j\n",
    "        i+=1 # itération +1\n",
    "    return tab\n",
    "\n",
    "dic1= {'Caroline': ['Fatou'], 'Fatou': ['Caroline'], 'Kameto': ['Gotaga'], 'Gotaga': ['Kameto', 'Squeezie'], 'Squeezie': ['Gotaga']} \n",
    "dic2= {'Mamadou': ['Caroline'], 'Caroline': ['Mamadou'], 'Paul': ['Ricardo', 'Loic'], 'Ricardo': ['Paul'], 'Loic': ['Paul']}\n",
    "dic3= {\n",
    "    \"Alice\" : [\"Bob\", \"Dominique\"],\n",
    "    \"Bob\" : [\"Alice\", \"Dominique\", \"Charlie\"],\n",
    "    \"Charlie\" : [\"Bob\"],\n",
    "    \"Dominique\" : [\"Bob\", \"Alice\"]\n",
    "  }\n",
    "\n",
    "\n",
    "\n",
    "def test_order_by_decreasing_popularity():\n",
    "    assert order_by_decreasing_popularity(dic1, [\"Caroline\",\"Fatou\"]) == [\"Fatou\",\"Caroline\"]\n",
    "    assert order_by_decreasing_popularity(dic2,['Mamadou', 'Caroline']) == ['Mamadou', 'Caroline']\n",
    "    assert order_by_decreasing_popularity(dic3,[\"Alice\", \"Bob\", \"Charlie\"]) == [\"Bob\", \"Alice\", \"Charlie\"]\n",
    "    print(\"ok\")\n",
    "    \n",
    "test_order_by_decreasing_popularity()\n",
    "\n",
    "\n",
    "    \n",
    "    \n",
    "    \n"
   ]
  },
  {
   "cell_type": "code",
   "execution_count": 23,
   "id": "5ea6aa0c",
   "metadata": {},
   "outputs": [
    {
     "name": "stdout",
     "output_type": "stream",
     "text": [
      "ok\n"
     ]
    }
   ],
   "source": [
    "def find_community_by_decreasing_popularity(network):\n",
    "    \"\"\"'retourne la communauté en triant l'ensemble des personnes du réseau selon l'ordre décroissant de popularité \"\"\"\n",
    "    cles=list(network) # création d'un tableau avec les clés du dictionnaire network\n",
    "    res=order_by_decreasing_popularity(network,cles) # le tab retourné par la fonction order_by_decreasing_popularity prenant en paramètre le réseau et le tableau cles est stocké dans la variable res\n",
    "    resultatf=find_community(network,res) # le tab retourné par la fonction find_community prenant en paramètre le réseau et le tableau res est stocké dans la variable resultatf\n",
    "    return resultatf\n",
    "\n",
    "dic1= {'Caroline': ['Fatou'], 'Fatou': ['Caroline'], 'Kameto': ['Gotaga'], 'Gotaga': ['Kameto', 'Squeezie'], 'Squeezie': ['Gotaga']} \n",
    "dic2= {'Mamadou': ['Caroline'], 'Caroline': ['Mamadou'], 'Paul': ['Ricardo', 'Loic'], 'Ricardo': ['Paul'], 'Loic': ['Paul']}\n",
    "dic3= {\n",
    "    \"Alice\" : [\"Bob\", \"Dominique\"],\n",
    "    \"Bob\" : [\"Alice\", \"Dominique\", \"Charlie\"],\n",
    "    \"Charlie\" : [\"Bob\"],\n",
    "    \"Dominique\" : [\"Bob\", \"Alice\"]\n",
    "  }\n",
    "\n",
    "def test_find_community_by_decreasing_popularity():\n",
    "    assert find_community_by_decreasing_popularity(dic1) == [\"Fatou\",\"Caroline\"]\n",
    "    assert find_community_by_decreasing_popularity(dic2)== ['Paul', 'Loic', 'Ricardo']\n",
    "    assert find_community_by_decreasing_popularity(dic3) == [\"Bob\", \"Alice\",\"Charlie\", \"Dominique\"]\n",
    "    print(\"ok\")\n",
    "    \n",
    "    \n",
    "    \n",
    "test_find_community_by_decreasing_popularity()"
   ]
  },
  {
   "cell_type": "code",
   "execution_count": 24,
   "id": "afc751db",
   "metadata": {},
   "outputs": [
    {
     "name": "stdout",
     "output_type": "stream",
     "text": [
      "ok\n"
     ]
    }
   ],
   "source": [
    "def find_community_from_person(network, person):\n",
    "    \"\"\" retourne un tableau communauté maximale contenant person\"\"\"\n",
    "    res=order_by_decreasing_popularity(network,network[person]) # le tableau retourner par l'appelle de fonction order_by_decreasing_popularity est stocké dans la variable res\n",
    "    tab=[] # création d'un tableau vide\n",
    "    tab.append(person) # on ajoute à la fin du tableau tab la valeur person\n",
    "    i=0 # initialisation de la variable i à 0\n",
    "    while i<len(res): # on rentre dans la boucle si et seulement si i est strictement inférieur à la longueur du tableau res\n",
    "        if res[i]==person: # si la valeur du tableau res à l'indice i est égale à person\n",
    "            i+=1 # itération +1\n",
    "        tab.append(res[i]) # on ajoute à la fin du tableau tab la valeur du tableau res à l'indice i\n",
    "        i+=1 # itération +1\n",
    "        \n",
    "    \n",
    "    return tab    \n",
    "\n",
    "dic1= {'Caroline': ['Fatou'], 'Fatou': ['Caroline'], 'Kameto': ['Gotaga'], 'Gotaga': ['Kameto', 'Squeezie'], 'Squeezie': ['Gotaga']} \n",
    "dic2= {'Mamadou': ['Caroline'], 'Caroline': ['Mamadou'], 'Paul': ['Ricardo', 'Loic'], 'Ricardo': ['Paul'], 'Loic': ['Paul']}\n",
    "dic3= {\n",
    "    \"Alice\" : [\"Bob\", \"Dominique\"],\n",
    "    \"Bob\" : [\"Alice\", \"Dominique\", \"Charlie\"],\n",
    "    \"Charlie\" : [\"Bob\"],\n",
    "    \"Dominique\" : [\"Bob\", \"Alice\"]\n",
    "  }\n",
    "\n",
    "\n",
    "def test_find_community_from_person():\n",
    "    assert find_community_from_person(dic2, \"Paul\") == ['Paul', 'Loic', 'Ricardo']\n",
    "    assert find_community_from_person(dic1, \"Caroline\") == ['Caroline', 'Fatou']\n",
    "    assert find_community_from_person(dic3, \"Alice\") == [\"Alice\", \"Bob\", \"Dominique\"]\n",
    "    print(\"ok\")\n",
    "    \n",
    "    \n",
    "    \n",
    "test_find_community_from_person()"
   ]
  },
  {
   "cell_type": "code",
   "execution_count": 25,
   "id": "7177b5d9",
   "metadata": {},
   "outputs": [
    {
     "name": "stdout",
     "output_type": "stream",
     "text": [
      "ok\n"
     ]
    }
   ],
   "source": [
    "def find_max_community(network):\n",
    "    \"\"\" retourne la plus grande communauté en tableau \"\"\"\n",
    "    cles=list(network) # création d'un tableau avec les clés du dictionnaire network\n",
    "    tab=[] # création d'un tableau vide\n",
    "    i=0 # initialisation de la variable i à 0\n",
    "    while i<len(cles): # on rentre dans la boucle si et seulement si i est strictement inférieur à la longueur du tableau cles\n",
    "        res=find_community_from_person(network,cles[i]) # le tab retourné par la fonction find_community_from_person dans la variable res\n",
    "        tab.append(res) # on ajoute à la fin du tableau tab la valeur res\n",
    "        i+=1 # itération +1\n",
    "    \n",
    "    return max(tab)\n",
    "\n",
    "dic1= {'Caroline': ['Fatou'], 'Fatou': ['Caroline'], 'Kameto': ['Gotaga'], 'Gotaga': ['Kameto', 'Squeezie'], 'Squeezie': ['Gotaga']} \n",
    "dic2= {'Mamadou': ['Caroline'], 'Caroline': ['Mamadou'], 'Paul': ['Ricardo', 'Loic'], 'Ricardo': ['Paul'], 'Loic': ['Paul']}\n",
    "dic3= {\n",
    "    \"Alice\" : [\"Bob\", \"Dominique\"],\n",
    "    \"Bob\" : [\"Alice\", \"Dominique\", \"Charlie\"],\n",
    "    \"Charlie\" : [\"Bob\"],\n",
    "    \"Dominique\" : [\"Bob\", \"Alice\"]\n",
    "  }\n",
    "\n",
    "\n",
    "def test_find_max_community():\n",
    "    assert find_max_community(dic1) == ['Squeezie', 'Gotaga']\n",
    "    assert find_max_community(dic2) ==     ['Ricardo', 'Paul']\n",
    "    assert find_max_community(dic3) == ['Dominique', 'Bob', 'Alice']\n",
    "    \n",
    "    print(\"ok\")\n",
    "    \n",
    "\n",
    "\n",
    "    \n",
    "test_find_max_community()   \n",
    "\n"
   ]
  },
  {
   "cell_type": "code",
   "execution_count": null,
   "id": "90d6d480",
   "metadata": {},
   "outputs": [],
   "source": []
  }
 ],
 "metadata": {
  "kernelspec": {
   "display_name": "Python 3 (ipykernel)",
   "language": "python",
   "name": "python3"
  },
  "language_info": {
   "codemirror_mode": {
    "name": "ipython",
    "version": 3
   },
   "file_extension": ".py",
   "mimetype": "text/x-python",
   "name": "python",
   "nbconvert_exporter": "python",
   "pygments_lexer": "ipython3",
   "version": "3.9.12"
  }
 },
 "nbformat": 4,
 "nbformat_minor": 5
}
