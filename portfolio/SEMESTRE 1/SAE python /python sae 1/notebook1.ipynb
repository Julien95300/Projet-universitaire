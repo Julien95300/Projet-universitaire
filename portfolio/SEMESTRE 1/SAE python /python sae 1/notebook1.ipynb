{
 "cells": [
  {
   "cell_type": "markdown",
   "metadata": {
    "deletable": false,
    "editable": false,
    "run_control": {
     "frozen": true
    }
   },
   "source": [
    "# <center> Etude de communautés dans un réseau social</center>\n",
    "<center> SAE 1.01 / 2022 - 23 </center>\n",
    "\n"
   ]
  },
  {
   "cell_type": "markdown",
   "metadata": {
    "deletable": false,
    "editable": false,
    "run_control": {
     "frozen": true
    }
   },
   "source": [
    "Cette SAE est à faire en **binôme**.\n",
    "\n",
    "**Calendrier**\n",
    "- Un contrôle de 2h en lien avec le contenu de cette SAE aura lieu le mercredi **26 octobre** 2022.\n",
    "- Le projet est à rendre le vendredi **28 octobre** 2022. Les modalités de rendu vous seront précisées par votre enseignant.\n",
    "\n",
    "**Evaluation**\n",
    "- Le projet comptera pour 40% de la note de SAE 1.01. <BR>\n",
    "    Il sera particulièrement tenu compte de la qualité du code, des **commentaires** et **docstrings**, des fonctions de **tests unitaires** pour les fonctions renvoyant des résultats. <BR><BR>\n",
    "    \n",
    "- Le contrôle compte pour 60% de la note finale."
   ]
  },
  {
   "cell_type": "markdown",
   "metadata": {
    "deletable": false,
    "editable": false,
    "run_control": {
     "frozen": true
    }
   },
   "source": [
    "## <center> Sujet </center>\n",
    "\n",
    "Une *communauté* est un ensemble de personnes développant des interactions dans un réseau social.\n",
    "\n",
    "Dans ce projet, on étudie des communautés modélisées sous différentes formes. Pour cela, on développe des fonctions permettant d'extraire des informations relatives à ces réseaux. "
   ]
  },
  {
   "cell_type": "markdown",
   "metadata": {
    "deletable": false,
    "editable": false,
    "run_control": {
     "frozen": true
    }
   },
   "source": [
    "On modélise, dans un premier temps, les interactions entre personnes dans un tableau `amis` de chaînes de caractères contenant les prénoms des membres du réseau et tel que `amis[2*i]` a des interactions avec `amis[2*i+1]`.\n",
    "\n",
    "On suppose que chaque interaction n'est décrite qu'une seule fois dans le tableau, et qu'une personne n'a pas d'interaction avec elle-même.\n",
    "\n",
    "**Exemple** : "
   ]
  },
  {
   "cell_type": "code",
   "execution_count": null,
   "metadata": {
    "deletable": false,
    "editable": false
   },
   "outputs": [],
   "source": [
    "amis = [\"Alice\", \"Bob\", \"Alice\", \"Charlie\", \"Bob\", \"Denis\"]"
   ]
  },
  {
   "cell_type": "markdown",
   "metadata": {
    "deletable": false,
    "editable": false,
    "run_control": {
     "frozen": true
    }
   },
   "source": [
    "Ici, \n",
    "- Alice a des interactions Bob et Charlie, \n",
    "- Bob a des intractions avec Alice et Denis,\n",
    "- Charlie a des interactions avec Alice et\n",
    "- Denis a des interactions avec Bob."
   ]
  },
  {
   "cell_type": "markdown",
   "metadata": {
    "deletable": false,
    "editable": false,
    "run_control": {
     "frozen": true
    }
   },
   "source": [
    "#### Question préliminaire : Modélisation d'un réseau par un tableau\n",
    "\n",
    "Muriel, Yasmine et Joël sont amis. Yasmine est amie avec Thomas. \n",
    "Joël, Nassim, Andrea et Ali sont amis. Thomas est ami de Daria et Carole. Thierry, Axel et Léo sont amis. Léo est ami de Valentin qui est ami d'Andrea.\n",
    "\n",
    "- Construire un tableau `p_amis` qui modélise ce réseau d'amitié en selon le principe qui vient d'être décrit."
   ]
  },
  {
   "cell_type": "code",
   "execution_count": null,
   "metadata": {},
   "outputs": [],
   "source": [
    "p_amis = [\"Thomas\", \"Daria\", \"Thomas\", \"Carole\",\"Yasmine\", \"Muriel\", \"Yasmine\", \"Thomas\",\"Joël\", \"Yasmine\", \"Joël\", \"Muriel\", \"Joël\", \"Nassim\", \"Joël\", \"Ali\", \"Joël\", \"Andrea\",\"Nassim\", \"Andrea\", \"Nassim\", \"Ali\",\"Andrea\", \"Ali\",\"Léo\", \"Valentin\", \"Léo\", \"Axel\", \"Thierry\", \"Axel\", \"Thierry\", \"Léo\",\"Valentin\", \"Andrea\"]\n",
    "\n",
    "\n",
    "\n",
    "\n"
   ]
  },
  {
   "cell_type": "markdown",
   "metadata": {
    "deletable": false,
    "editable": false,
    "run_control": {
     "frozen": true
    }
   },
   "source": [
    "#### Question 1 : Nombre d'amis d'une personne\n",
    "\n",
    "- Étant donné un tableau `amis`, écrire une fonction `nb_amis(amis, prenom)` qui retourne le nombre d'amis de `prenom` à partir des données du tableau `amis`. "
   ]
  },
  {
   "cell_type": "code",
   "execution_count": 40,
   "metadata": {},
   "outputs": [
    {
     "name": "stdout",
     "output_type": "stream",
     "text": [
      "ok\n"
     ]
    }
   ],
   "source": [
    "\n",
    "\n",
    "\n",
    "def nb_amis(amis, prenom):\n",
    "    \"\"\" retourne le nombre d'amis de prenom à partir des données du tableau amis.\"\"\"\n",
    "    i=0\n",
    "    ami=0\n",
    "    while i<len(amis):   # on rentre dans la boucle si et seulement si i est strictement inférieur à la longueur du tableau amis\n",
    "        \n",
    "        if prenom in amis[i]and prenom!=amis[i+1] : # si  prenom est égale à l'élément d'indice i du tableau amis et si prenom n'est pas égale à l'élément d'indice i+1 du tableau amis\n",
    "            ami+=1\n",
    "       \n",
    "        i+=2 # itération +2\n",
    "\n",
    "    return ami\n",
    "\n",
    "def test_nb_amis():\n",
    "    assert nb_amis([\"Alice\", \"Bob\", \"Alice\", \"Charlie\", \"Bob\", \"Denis\"],\"Alice\")== 2\n",
    "    assert nb_amis([\"Thomas\", \"Daria\", \"Thomas\", \"Carole\",\"Yasmine\", \"Muriel\", \"Yasmine\", \"Thomas\",\"Joël\", \"Yasmine\", \"Joël\", \"Muriel\", \"Joël\", \"Nassim\", \"Joël\", \"Ali\", \"Joël\", \"Andrea\",\"Nassim\", \"Andrea\", \"Nassim\", \"Ali\",\"Andrea\", \"Ali\",\"Léo\", \"Valentin\", \"Léo\", \"Axel\", \"Thierry\", \"Axel\", \"Thierry\", \"Léo\",\"Valentin\", \"Andrea\"],\"Joël\")== 5\n",
    "   \n",
    "    print(\"ok\")\n",
    "    \n",
    "\n",
    "test_nb_amis()"
   ]
  },
  {
   "cell_type": "markdown",
   "metadata": {
    "deletable": false,
    "editable": false,
    "run_control": {
     "frozen": true
    }
   },
   "source": [
    "#### Question 2 : Nombre de membres d'un réseau social \n",
    "\n",
    "- Ecrire une fonction `taille_reseau(amis)` qui à partir d'un tableau `amis`retourne le nombre de personnes distinctes participant à ce réseau social."
   ]
  },
  {
   "cell_type": "code",
   "execution_count": 41,
   "metadata": {},
   "outputs": [
    {
     "name": "stdout",
     "output_type": "stream",
     "text": [
      "ok\n"
     ]
    }
   ],
   "source": [
    "def taille_reseau(amis):\n",
    "   \"\"\"retourne le nombre de personnes distinctes participant à ce réseau social à partir d'un tableau amis.\"\"\"\n",
    "\n",
    "    i=0\n",
    "    membre=[] # création d'un tableau vide\n",
    "    while i<len(amis): # on rentre dans la boucle si et seulement si i est strictement inférieur à la longueur du tableau amis\n",
    "        if amis[i] not in membre: # si l'élément d'indice i du tableau amis n'est pas présent dans le tableau membre\n",
    "            membre.append(amis[i]) # alors l'élément d'indice i du tableau amis sera ajouté au tableau membre   \n",
    "        i+=1 #itération +1\n",
    "    return(len(membre))\n",
    "    \n",
    "def test_taille_reseau():\n",
    "    assert taille_reseau([\"Alice\", \"Bob\", \"Alice\", \"Charlie\", \"Bob\", \"Denis\"])== 4\n",
    "    assert taille_reseau([\"Thomas\", \"Daria\", \"Thomas\", \"Carole\",\"Yasmine\", \"Muriel\", \"Yasmine\", \"Thomas\",\"Joël\", \"Yasmine\", \"Joël\", \"Muriel\", \"Joël\", \"Nassim\", \"Joël\", \"Ali\", \"Joël\", \"Andrea\",\"Nassim\", \"Andrea\", \"Nassim\", \"Ali\",\"Andrea\", \"Ali\",\"Léo\", \"Valentin\", \"Léo\", \"Axel\", \"Thierry\", \"Axel\", \"Thierry\", \"Léo\",\"Valentin\", \"Andrea\"])== 13\n",
    "    assert taille_reseau([\"Bonjour\",\"Aurevoir\",\"Bonjour\",\"Bonne nuit\"])== 3\n",
    "    print(\"ok\")\n",
    "\n",
    "\n",
    "test_taille_reseau()"
   ]
  },
  {
   "cell_type": "markdown",
   "metadata": {
    "deletable": false,
    "editable": false,
    "run_control": {
     "frozen": true
    }
   },
   "source": [
    "#### Question 3 :  Lecture des données d'un réseau à partir d'un fichier\n",
    "On suppose que les données sur un réseau social sont stockées dans un fichier CSV de la manière suivante :\n",
    "```\n",
    "prenom1;prenom2\n",
    "prenom3;prenom4\n",
    "prenom5;prenom6\n",
    "...\n",
    "```\n",
    "Autrement dit, chaque ligne du fichier contient une paire de prénoms séparés par un `';'` correspondant à deux personnes ayant des interactions. \n",
    "\n",
    "**NB** : Quatre fichiers CSV de ce type sont fournis dans le répertoire `files/`, il s'agit des fichiers`Communaute1.csv`, `Communaute2.csv`,`Communaute3.csv` et `Communaute4.csv`. \n",
    "Il est recommandé d'en fabriquer d'autres. \n",
    "\n",
    "- Ecrire une fonction `lecture_reseau(path)` prenant en paramètre un chemin vers un tel fichier CSV et retournant un tableau modélisant les interactions entre les personnes du fichier."
   ]
  },
  {
   "cell_type": "code",
   "execution_count": 42,
   "metadata": {},
   "outputs": [
    {
     "name": "stdout",
     "output_type": "stream",
     "text": [
      "ok\n"
     ]
    }
   ],
   "source": [
    "\n",
    "def lecture_reseau(path):\n",
    "    \"\"\"retourne un tableau modélisant les interactions entre les personnes d'un fichier csv\"\"\"\n",
    "    \n",
    "    fichier=open(path,\"r\") #ouverture du fichier en mode lecture \n",
    "    ligne=fichier.readline() # lecture de la première ligne du fichier\n",
    "    \n",
    "    tab=[] # création d'un tableau vide\n",
    "    while ( '' != ligne): # on rentre dans la boucle uniquement si la ligne du fichier n'est pas vide\n",
    "        s=ligne.strip() # on enlève les espaces \n",
    "        l=s.split(';') # on sépare la chaine s où il y a un séparateur ';' et retourne le tableau des chaines obtenues.\n",
    "\n",
    "       \n",
    "        tab.append(l[0])# on ajoute l'élément d'indice 0 du tableau l au tableau tab\n",
    "        tab.append(l[1]) # on ajoute l'élément d'indice 1 du tableau l au tableau tab\n",
    "        ligne=fichier.readline() #lecture de la ligne suivante\n",
    "    \n",
    "    \n",
    "    fichier.close() # fermeture du fichier\n",
    "    return tab\n",
    "\n",
    "def test_lecture_reseau():\n",
    "    assert lecture_reseau(\"./files/Communaute1.csv\")==['Giedrius',\n",
    " 'Mady',\n",
    " 'Kirsa',\n",
    " 'Vittore',\n",
    " 'Barbra',\n",
    " 'Faizel',\n",
    " 'Vittorio',\n",
    " 'Vittore',\n",
    " 'Louis',\n",
    " 'Placide',\n",
    " 'Vittorio',\n",
    " 'Barbra',\n",
    " 'Cloe',\n",
    " 'Björn',\n",
    " 'Vittore',\n",
    " 'Barbra',\n",
    " 'Mady',\n",
    " 'Rufino',\n",
    " 'Cloe',\n",
    " 'Vittorio',\n",
    " 'Vittorio',\n",
    " 'Placide',\n",
    " 'Olavi',\n",
    " 'Rufino',\n",
    " 'Vittore',\n",
    " 'Cloe',\n",
    " 'Teodor',\n",
    " 'Cloe',\n",
    " 'Louis',\n",
    " 'Cloe',\n",
    " 'Idelle',\n",
    " 'Mady',\n",
    " 'Illtyd',\n",
    " 'Giedrius',\n",
    " 'Teodor',\n",
    " 'Olavi',\n",
    " 'Vittore',\n",
    " 'Mady',\n",
    " 'Rufino',\n",
    " 'Giedrius',\n",
    " 'Placide',\n",
    " 'Louis',\n",
    " 'Louis',\n",
    " 'Vittorio',\n",
    " 'Giedrius',\n",
    " 'Glenys',\n",
    " 'Björn',\n",
    " 'Olavi',\n",
    " 'Faizel',\n",
    " 'Placide',\n",
    " 'Rufino',\n",
    " 'Illtyd',\n",
    " 'Placide',\n",
    " 'Louis',\n",
    " 'Kirsa',\n",
    " 'Vittorio',\n",
    " 'Mady',\n",
    " 'Placide',\n",
    " 'Illtyd',\n",
    " 'Olavi',\n",
    " 'Vittorio',\n",
    " 'Placide',\n",
    " 'Cloe',\n",
    " 'Mady',\n",
    " 'Rufino',\n",
    " 'Vittorio',\n",
    " 'Placide',\n",
    " 'Rufino',\n",
    " 'Rufino',\n",
    " 'Vittorio',\n",
    " 'Giedrius',\n",
    " 'Illtyd',\n",
    " 'Rufino',\n",
    " 'Teodor',\n",
    " 'Olavi',\n",
    " 'Rufino',\n",
    " 'Placide',\n",
    " 'Jakob',\n",
    " 'Cloe',\n",
    " 'Björn',\n",
    " 'Barbra',\n",
    " 'Kirsa',\n",
    " 'Idelle',\n",
    " 'Cloe',\n",
    " 'Rufino',\n",
    " 'Illtyd',\n",
    " 'Rufino',\n",
    " 'Faizel',\n",
    " 'Rufino',\n",
    " 'Louis',\n",
    " 'Björn',\n",
    " 'Cloe',\n",
    " 'Vittorio',\n",
    " 'Olavi',\n",
    " 'Vittorio',\n",
    " 'Mady',\n",
    " 'Glenys',\n",
    " 'Cloe',\n",
    " 'Björn',\n",
    " 'Idelle',\n",
    " 'Mady',\n",
    " 'Björn',\n",
    " 'Barbra',\n",
    " 'Vittorio',\n",
    " 'Louis',\n",
    " 'Björn',\n",
    " 'Mady',\n",
    " 'Vittorio',\n",
    " 'Illtyd',\n",
    " 'Olavi',\n",
    " 'Olavi',\n",
    " 'Barbra',\n",
    " 'Björn',\n",
    " 'Giedrius',\n",
    " 'Mady',\n",
    " 'Placide',\n",
    " 'Faizel',\n",
    " 'Barbra',\n",
    " 'Marwa',\n",
    " 'Idelle',\n",
    " 'Placide',\n",
    " 'Olavi',\n",
    " 'Olavi',\n",
    " 'Placide',\n",
    " 'Cain',\n",
    " 'Vittorio',\n",
    " 'Louis',\n",
    " 'Placide',\n",
    " 'Jakob',\n",
    " 'Kirsa',\n",
    " 'Barbra',\n",
    " 'Marwa',\n",
    " 'Vittorio',\n",
    " 'Louis',\n",
    " 'Idelle',\n",
    " 'Illtyd',\n",
    " 'Louis',\n",
    " 'Giedrius',\n",
    " 'Olavi',\n",
    " 'Barbra',\n",
    " 'Mady',\n",
    " 'Barbra',\n",
    " 'Barbra',\n",
    " 'Rufino',\n",
    " 'Cloe',\n",
    " 'Barbra',\n",
    " 'Louis',\n",
    " 'Björn',\n",
    " 'Cloe',\n",
    " 'Björn',\n",
    " 'Mady',\n",
    " 'Barbra',\n",
    " 'Rufino',\n",
    " 'Björn',\n",
    " 'Kirsa',\n",
    " 'Vittore',\n",
    " 'Björn',\n",
    " 'Faizel',\n",
    " 'Jakob',\n",
    " 'Kirsa',\n",
    " 'Cloe',\n",
    " 'Vittore',\n",
    " 'Vittore',\n",
    " 'Björn',\n",
    " 'Björn',\n",
    " 'Teodor',\n",
    " 'Barbra',\n",
    " 'Rufino',\n",
    " 'Louis',\n",
    " 'Rufino',\n",
    " 'Vittorio',\n",
    " 'Mady',\n",
    " 'Olavi',\n",
    " 'Teodor',\n",
    " 'Teodor',\n",
    " 'Mady',\n",
    " 'Faizel',\n",
    " 'Olavi',\n",
    " 'Björn',\n",
    " 'Cloe',\n",
    " 'Cloe',\n",
    " 'Idelle',\n",
    " 'Barbra',\n",
    " 'Louis',\n",
    " 'Barbra',\n",
    " 'Vittore',\n",
    " 'Giedrius',\n",
    " 'Vittorio',\n",
    " 'Placide',\n",
    " 'Cain',\n",
    " 'Vittore',\n",
    " 'Louis',\n",
    " 'Mady',\n",
    " 'Jakob',\n",
    " 'Barbra',\n",
    " 'Vittore',\n",
    " 'Björn',\n",
    " 'Mady',\n",
    " 'Placide',\n",
    " 'Rufino',\n",
    " 'Placide',\n",
    " 'Cloe',\n",
    " 'Vittorio',\n",
    " 'Barbra',\n",
    " 'Illtyd',\n",
    " 'Rufino',\n",
    " 'Vittore',\n",
    " 'Louis',\n",
    " 'Olavi',\n",
    " 'Louis'] \n",
    "   \n",
    "    print(\"ok\")\n",
    "\n",
    "test_lecture_reseau()\n",
    "\n"
   ]
  },
  {
   "cell_type": "markdown",
   "metadata": {
    "deletable": false,
    "editable": false,
    "run_control": {
     "frozen": true
    }
   },
   "source": [
    "#### Question 4 : Modélisation d'un réseau par un dictionnaire\n",
    "On préfère pour la suite, utiliser une modélisation du réseau social par un dictionnaire dont où les clés sont les prénoms des personnes du réseau et la valeur associé à une clé est le tableau des amis de la personne indiquée par la clé.\n",
    "\n",
    "- A partir d'un tableau `amis` modélisant les interactions entre personnes d'un réseau, écrire une fonction `dico_reseau(amis)` qui retourne un dictionnaire dont les clés sont les prénoms des membres du réseau et les valeurs le tableau de leurs amis."
   ]
  },
  {
   "cell_type": "code",
   "execution_count": 45,
   "metadata": {},
   "outputs": [
    {
     "name": "stdout",
     "output_type": "stream",
     "text": [
      "ok\n"
     ]
    }
   ],
   "source": [
    "def dico_reseau(amis):\n",
    "    \"\"\"retourne un dictionnaire dont les clés sont les prénoms des membres du réseau et les valeurs le tableau de leurs amis à partir d'un tableau amsi\"\"\"\n",
    "    dico={} # création d'un dictionnaire vide\n",
    "    i=0\n",
    "    \n",
    "    while i<len(amis)-1: # on rentre dans la boucle si et seulement si i est strictement inférieur à la longueur du tableau amis -1, le -1 pour comparé la dernière valeur du tableau amis\n",
    "        if amis[i] not in list(dico): # si l'élément d'indice i du tableau amis n'est pas dans les clés du dictionnaire dico\n",
    "            dico[amis[i]]=[amis[i+1]] # on crée une clé qui est l'élément d'indice i du tableau amis qui a pour valeur l'élément d'indice i+1 du tableau amis \n",
    "        else:\n",
    "            dico[amis[i]].append(amis[i+1])# on ajoute juste l'élément d'indice i+1 au tableau des valeurs du dictionnaire dico\n",
    "       \n",
    "        \n",
    "        i+=1 # itération +1\n",
    "    \n",
    "    return (dico)\n",
    "    \n",
    "def test_dico_reseau():\n",
    "    assert dico_reseau([\"Alice\", \"Bob\", \"Alice\", \"Charlie\", \"Bob\", \"Denis\"])== {'Alice': ['Bob', 'Charlie'], 'Bob': ['Alice', 'Denis'], 'Charlie': ['Bob']}\n",
    "    assert dico_reseau([\"Bonjour\",\"Aurevoir\",\"Bonjour\",\"Bonne nuit\"])== {'Bonjour': ['Aurevoir', 'Bonne nuit'], 'Aurevoir': ['Bonjour']}\n",
    "    assert dico_reseau([\"Thomas\", \"Daria\", \"Thomas\", \"Carole\",\"Yasmine\", \"Muriel\", \"Yasmine\", \"Thomas\",\"Joël\", \"Yasmine\", \"Joël\", \"Muriel\", \"Joël\", \"Nassim\", \"Joël\", \"Ali\", \"Joël\", \"Andrea\",\"Nassim\", \"Andrea\", \"Nassim\", \"Ali\",\"Andrea\", \"Ali\",\"Léo\", \"Valentin\", \"Léo\", \"Axel\", \"Thierry\", \"Axel\", \"Thierry\", \"Léo\",\"Valentin\", \"Andrea\"])=={'Thomas': ['Daria', 'Carole', 'Joël'],'Daria': ['Thomas'],'Carole': ['Yasmine'],'Yasmine': ['Muriel', 'Thomas', 'Joël'],'Muriel': ['Yasmine', 'Joël'],'Joël': ['Yasmine', 'Muriel', 'Nassim', 'Ali', 'Andrea'],'Nassim': ['Joël', 'Andrea', 'Ali'],'Ali': ['Joël', 'Andrea', 'Léo'],'Andrea': ['Nassim', 'Nassim', 'Ali'],'Léo': ['Valentin', 'Axel', 'Valentin'],'Valentin': ['Léo', 'Andrea'],'Axel': ['Thierry', 'Thierry'],'Thierry': ['Axel', 'Léo']}\n",
    "    print(\"ok\")\n",
    "test_dico_reseau()"
   ]
  },
  {
   "cell_type": "markdown",
   "metadata": {
    "deletable": false,
    "editable": false,
    "run_control": {
     "frozen": true
    }
   },
   "source": [
    "#### Question 5 : Nombre d'amis des personnes les plus populaires\n",
    "\n",
    "- A partir d'un dictionnaire `dico_reseau` modélisant les interactions dans un réseau d'amis, écrire une fonction `nb_amis_plus_pop (dico_reseau)` qui retourne le nombre d'amis des personnes les plus populaires du réseau."
   ]
  },
  {
   "cell_type": "code",
   "execution_count": 43,
   "metadata": {},
   "outputs": [
    {
     "name": "stdout",
     "output_type": "stream",
     "text": [
      "ok\n"
     ]
    }
   ],
   "source": [
    "def nb_amis_plus_pop(dico_reseau):\n",
    "    \"\"\"  retourne le nombre d'amis des personnes les plus populaires du réseau à partir d'un dictionnaire dico_reseau.\"\"\"\n",
    "    \n",
    "    valeurs=list(dico_reseau.values())# on stocke toutes les valeurs du dictionnaire dico_reseau dans la variable valeurs\n",
    "    i=0\n",
    "    res=0\n",
    "    while i<len(valeurs): #on rentre dans la boucle uniquement si i est strictement inférieur à la longueur du tableau\n",
    "        \n",
    "        if len(valeurs[i])>res: # si la longueur de l'élément d'indice i du tableau valeurs est strictement supérieur à res\n",
    "            res=len(valeurs[i]) # alors res égale à la longueur de l'élément d'indice i du tableau valeurs\n",
    "        \n",
    "        i+=1 # itération +1\n",
    "    return(res)\n",
    "        \n",
    "\n",
    "def test_nb_amis_plus_pop():\n",
    "    assert nb_amis_plus_pop({'Alice': ['Bob', 'Charlie'], 'Bob': ['Alice', 'Denis'], 'Charlie': ['Bob']})==2\n",
    "    assert nb_amis_plus_pop({'Bonjour': ['Aurevoir', 'Bonne nuit'], 'Aurevoir': ['Bonjour']})==2\n",
    "    assert nb_amis_plus_pop({'Thomas': ['Daria', 'Carole', 'Joël'],'Daria': ['Thomas'],'Carole': ['Yasmine'],'Yasmine': ['Muriel', 'Thomas', 'Joël'],'Muriel': ['Yasmine', 'Joël'],'Joël': ['Yasmine', 'Muriel', 'Nassim', 'Ali', 'Andrea'],'Nassim': ['Joël', 'Andrea', 'Ali'],'Ali': ['Joël', 'Andrea', 'Léo'],'Andrea': ['Nassim', 'Nassim', 'Ali'],'Léo': ['Valentin', 'Axel', 'Valentin'],'Valentin': ['Léo', 'Andrea'],'Axel': ['Thierry', 'Thierry'],'Thierry': ['Axel', 'Léo']})== 5\n",
    "    print(\"ok\")\n",
    "    \n",
    "    \n",
    "\n",
    "test_nb_amis_plus_pop()"
   ]
  },
  {
   "cell_type": "markdown",
   "metadata": {
    "deletable": false,
    "editable": false,
    "run_control": {
     "frozen": true
    }
   },
   "source": [
    "#### Question 6 : Personnes les plus populaires\n",
    "\n",
    "- A partir d'un dictionnaire `dico_reseau` modélisant les interactions dans un réseau d'amis, écrire une fonction `les_plus_pop (dico_reseau)` qui retourne un tableau contenant les prénoms de toutes les personnes les plus populaires du réseau."
   ]
  },
  {
   "cell_type": "code",
   "execution_count": 48,
   "metadata": {},
   "outputs": [
    {
     "name": "stdout",
     "output_type": "stream",
     "text": [
      "ok\n"
     ]
    }
   ],
   "source": [
    "def les_plus_pop(dico_reseau):\n",
    "    \"\"\" retourne un tableau contenant les prénoms de toutes les personnes les plus populaires du réseau à partir d'un dictionnaire dico_réseau\"\"\"\n",
    "    \n",
    "    res=nb_amis_plus_pop(dico_reseau) # on affecte le resultat de la fonction nb_amis_plus_pop à res\n",
    "    cles=list(dico_reseau) # création d'un tableau des cles du dico_reseau\n",
    "    valeurs=list(dico_reseau.values()) # création d'un tableau des valeurs de dico_reseau \n",
    "    tab=[] #création d'un tableau vide\n",
    "    i=0\n",
    "    while i<len(cles): #on rentre dans la boucles uniquement si i est strictement inférieur à la longueur du tableau cles\n",
    "        if res==len(valeurs[i]): # si res est égale à la longueur de l'élément d'indice i du tableau valeurs\n",
    "            tab.append(cles[i]) # on ajoute l'élément d'indice i du tableau cles au tableau tab\n",
    "        i+=1 # itération +1\n",
    "    return tab\n",
    "\n",
    "def test_les_plus_pop():\n",
    "    assert les_plus_pop({'Thomas': ['Daria', 'Carole', 'Joël'],'Daria': ['Thomas'],'Carole': ['Yasmine'],'Yasmine': ['Muriel', 'Thomas', 'Joël'],'Muriel': ['Yasmine', 'Joël'],'Joël': ['Yasmine', 'Muriel', 'Nassim', 'Ali', 'Andrea'],'Nassim': ['Joël', 'Andrea', 'Ali'],'Ali': ['Joël', 'Andrea', 'Léo'],'Andrea': ['Nassim', 'Nassim', 'Ali'],'Léo': ['Valentin', 'Axel', 'Valentin'],'Valentin': ['Léo', 'Andrea'],'Axel': ['Thierry', 'Thierry'],'Thierry': ['Axel', 'Léo']})==['Joël']\n",
    "    assert les_plus_pop({'Alice': ['Bob', 'Charlie'], 'Bob': ['Alice', 'Denis'], 'Charlie': ['Bob']})==['Alice','Bob']\n",
    "    assert les_plus_pop({'Bonjour': ['Aurevoir', 'Bonne nuit'], 'Aurevoir': ['Bonjour']})==['Bonjour']\n",
    "\n",
    "\n",
    "    print(\"ok\")\n",
    "    \n",
    "test_les_plus_pop()"
   ]
  },
  {
   "cell_type": "code",
   "execution_count": 9,
   "metadata": {},
   "outputs": [
    {
     "ename": "KeyError",
     "evalue": "'Bonjour'",
     "output_type": "error",
     "traceback": [
      "\u001b[0;31m---------------------------------------------------------------------------\u001b[0m",
      "\u001b[0;31mKeyError\u001b[0m                                  Traceback (most recent call last)",
      "Input \u001b[0;32mIn [9]\u001b[0m, in \u001b[0;36m<cell line: 20>\u001b[0;34m()\u001b[0m\n\u001b[1;32m     13\u001b[0m dic2\u001b[38;5;241m=\u001b[39m {\u001b[38;5;124m'\u001b[39m\u001b[38;5;124mBonjour\u001b[39m\u001b[38;5;124m'\u001b[39m: [\u001b[38;5;124m'\u001b[39m\u001b[38;5;124mAurevoir\u001b[39m\u001b[38;5;124m'\u001b[39m, \u001b[38;5;124m'\u001b[39m\u001b[38;5;124mBonne nuit\u001b[39m\u001b[38;5;124m'\u001b[39m], \u001b[38;5;124m'\u001b[39m\u001b[38;5;124mAurevoir\u001b[39m\u001b[38;5;124m'\u001b[39m: [\u001b[38;5;124m'\u001b[39m\u001b[38;5;124mBonjour\u001b[39m\u001b[38;5;124m'\u001b[39m]}\n\u001b[1;32m     14\u001b[0m dic3\u001b[38;5;241m=\u001b[39m {\n\u001b[1;32m     15\u001b[0m     \u001b[38;5;124m\"\u001b[39m\u001b[38;5;124mAlice\u001b[39m\u001b[38;5;124m\"\u001b[39m : [\u001b[38;5;124m\"\u001b[39m\u001b[38;5;124mBob\u001b[39m\u001b[38;5;124m\"\u001b[39m, \u001b[38;5;124m\"\u001b[39m\u001b[38;5;124mDominique\u001b[39m\u001b[38;5;124m\"\u001b[39m],\n\u001b[1;32m     16\u001b[0m     \u001b[38;5;124m\"\u001b[39m\u001b[38;5;124mBob\u001b[39m\u001b[38;5;124m\"\u001b[39m : [\u001b[38;5;124m\"\u001b[39m\u001b[38;5;124mAlice\u001b[39m\u001b[38;5;124m\"\u001b[39m, \u001b[38;5;124m\"\u001b[39m\u001b[38;5;124mDominique\u001b[39m\u001b[38;5;124m\"\u001b[39m, \u001b[38;5;124m\"\u001b[39m\u001b[38;5;124mCharlie\u001b[39m\u001b[38;5;124m\"\u001b[39m],\n\u001b[1;32m     17\u001b[0m     \u001b[38;5;124m\"\u001b[39m\u001b[38;5;124mCharlie\u001b[39m\u001b[38;5;124m\"\u001b[39m : [\u001b[38;5;124m\"\u001b[39m\u001b[38;5;124mBob\u001b[39m\u001b[38;5;124m\"\u001b[39m],\n\u001b[1;32m     18\u001b[0m     \u001b[38;5;124m\"\u001b[39m\u001b[38;5;124mDominique\u001b[39m\u001b[38;5;124m\"\u001b[39m : [\u001b[38;5;124m\"\u001b[39m\u001b[38;5;124mBob\u001b[39m\u001b[38;5;124m\"\u001b[39m, \u001b[38;5;124m\"\u001b[39m\u001b[38;5;124mAlice\u001b[39m\u001b[38;5;124m\"\u001b[39m]\n\u001b[1;32m     19\u001b[0m   }\n\u001b[0;32m---> 20\u001b[0m \u001b[43mfind_community\u001b[49m\u001b[43m(\u001b[49m\u001b[43mdic1\u001b[49m\u001b[43m,\u001b[49m\u001b[43m[\u001b[49m\u001b[38;5;124;43m'\u001b[39;49m\u001b[38;5;124;43mAurevoir\u001b[39;49m\u001b[38;5;124;43m'\u001b[39;49m\u001b[43m,\u001b[49m\u001b[43m \u001b[49m\u001b[38;5;124;43m'\u001b[39;49m\u001b[38;5;124;43mBonjour\u001b[39;49m\u001b[38;5;124;43m'\u001b[39;49m\u001b[43m,\u001b[49m\u001b[38;5;124;43m\"\u001b[39;49m\u001b[38;5;124;43mBonne nuit\u001b[39;49m\u001b[38;5;124;43m\"\u001b[39;49m\u001b[43m]\u001b[49m\u001b[43m)\u001b[49m\n",
      "Input \u001b[0;32mIn [9]\u001b[0m, in \u001b[0;36mfind_community\u001b[0;34m(network, group)\u001b[0m\n\u001b[1;32m      6\u001b[0m i \u001b[38;5;241m=\u001b[39m \u001b[38;5;241m1\u001b[39m \u001b[38;5;66;03m# initialisation de la variable i à 1\u001b[39;00m\n\u001b[1;32m      7\u001b[0m \u001b[38;5;28;01mwhile\u001b[39;00m i \u001b[38;5;241m<\u001b[39m \u001b[38;5;28mlen\u001b[39m(group): \u001b[38;5;66;03m# on rentre dans la boucle si et seulement si i est strictement inférieur à la longueur du tableau group\u001b[39;00m\n\u001b[0;32m----> 8\u001b[0m     \u001b[38;5;28;01mif\u001b[39;00m \u001b[43mare_friends\u001b[49m\u001b[43m(\u001b[49m\u001b[43mnetwork\u001b[49m\u001b[43m,\u001b[49m\u001b[43m \u001b[49m\u001b[43mpersonne\u001b[49m\u001b[43m,\u001b[49m\u001b[43m \u001b[49m\u001b[43mgroup\u001b[49m\u001b[43m[\u001b[49m\u001b[43mi\u001b[49m\u001b[43m]\u001b[49m\u001b[43m)\u001b[49m: \u001b[38;5;66;03m# si l'appelle de fonction are_friends renvoie True\u001b[39;00m\n\u001b[1;32m      9\u001b[0m         tab\u001b[38;5;241m.\u001b[39mappend(group[i]) \u001b[38;5;66;03m# on ajoute à la fin du tableau tab la valeur du tableau group à l'indice i\u001b[39;00m\n\u001b[1;32m     10\u001b[0m     i\u001b[38;5;241m+\u001b[39m\u001b[38;5;241m=\u001b[39m\u001b[38;5;241m1\u001b[39m \u001b[38;5;66;03m# itération +1\u001b[39;00m\n",
      "Input \u001b[0;32mIn [2]\u001b[0m, in \u001b[0;36mare_friends\u001b[0;34m(network, person1, person2)\u001b[0m\n\u001b[1;32m      1\u001b[0m \u001b[38;5;28;01mdef\u001b[39;00m \u001b[38;5;21mare_friends\u001b[39m(network, person1, person2):\n\u001b[1;32m      2\u001b[0m     \u001b[38;5;124;03m\"\"\" retourne True si les deux personnes sont amies, et False sinon\"\"\"\u001b[39;00m\n\u001b[0;32m----> 3\u001b[0m     \u001b[38;5;28;01mif\u001b[39;00m person1 \u001b[38;5;129;01min\u001b[39;00m \u001b[43mnetwork\u001b[49m\u001b[43m[\u001b[49m\u001b[43mperson2\u001b[49m\u001b[43m]\u001b[49m \u001b[38;5;129;01mand\u001b[39;00m person2 \u001b[38;5;129;01min\u001b[39;00m network[person1]: \u001b[38;5;66;03m# si person1 est dans le tableau de valeur de la clé person2 et si person2 est dans le tableau de valeur de la clé person1 \u001b[39;00m\n\u001b[1;32m      4\u001b[0m         \u001b[38;5;28;01mreturn\u001b[39;00m \u001b[38;5;28;01mTrue\u001b[39;00m\n\u001b[1;32m      6\u001b[0m     \u001b[38;5;28;01melse\u001b[39;00m:\n",
      "\u001b[0;31mKeyError\u001b[0m: 'Bonjour'"
     ]
    }
   ],
   "source": [
    "def find_community(network, group):\n",
    "    \"\"\"retourne unecommunauté dans un tableau\"\"\"\n",
    "    tab = [] # création d'un tableau vide\n",
    "    personne = group[0] # la variable personne est égale a la valeur du tableau group à l'indice 0\n",
    "    tab.append(personne) # on ajoute à la fin du tableau tab la valeur personne\n",
    "    i = 1 # initialisation de la variable i à 1\n",
    "    while i < len(group): # on rentre dans la boucle si et seulement si i est strictement inférieur à la longueur du tableau group\n",
    "        if are_friends(network, personne, group[i]): # si l'appelle de fonction are_friends renvoie True\n",
    "            tab.append(group[i]) # on ajoute à la fin du tableau tab la valeur du tableau group à l'indice i\n",
    "        i+=1 # itération +1\n",
    "    return tab\n",
    "dic1= {'Alice': ['Bob', 'Charlie'], 'Bob': ['Alice', 'Denis'], 'Charlie': ['Bob']}\n",
    "dic2= {'Bonjour': ['Aurevoir', 'Bonne nuit'], 'Aurevoir': ['Bonjour']}\n",
    "dic3= {\n",
    "    \"Alice\" : [\"Bob\", \"Dominique\"],\n",
    "    \"Bob\" : [\"Alice\", \"Dominique\", \"Charlie\"],\n",
    "    \"Charlie\" : [\"Bob\"],\n",
    "    \"Dominique\" : [\"Bob\", \"Alice\"]\n",
    "  }\n",
    "find_community(dic1,['Aurevoir', 'Bonjour',\"Bonne nuit\"])"
   ]
  },
  {
   "cell_type": "code",
   "execution_count": 2,
   "metadata": {},
   "outputs": [],
   "source": [
    "def are_friends(network, person1, person2):\n",
    "    \"\"\" retourne True si les deux personnes sont amies, et False sinon\"\"\"\n",
    "    if person1 in network[person2] and person2 in network[person1]: # si person1 est dans le tableau de valeur de la clé person2 et si person2 est dans le tableau de valeur de la clé person1 \n",
    "        return True\n",
    "        \n",
    "    else:\n",
    "        return False\n",
    "\n"
   ]
  },
  {
   "cell_type": "code",
   "execution_count": null,
   "metadata": {},
   "outputs": [],
   "source": []
  }
 ],
 "metadata": {
  "kernelspec": {
   "display_name": "Python 3 (ipykernel)",
   "language": "python",
   "name": "python3"
  },
  "language_info": {
   "codemirror_mode": {
    "name": "ipython",
    "version": 3
   },
   "file_extension": ".py",
   "mimetype": "text/x-python",
   "name": "python",
   "nbconvert_exporter": "python",
   "pygments_lexer": "ipython3",
   "version": "3.9.12"
  },
  "latex_envs": {
   "LaTeX_envs_menu_present": true,
   "autoclose": false,
   "autocomplete": true,
   "bibliofile": "biblio.bib",
   "cite_by": "apalike",
   "current_citInitial": 1,
   "eqLabelWithNumbers": true,
   "eqNumInitial": 1,
   "hotkeys": {
    "equation": "Ctrl-E",
    "itemize": "Ctrl-I"
   },
   "labels_anchors": false,
   "latex_user_defs": false,
   "report_style_numbering": false,
   "user_envs_cfg": false
  }
 },
 "nbformat": 4,
 "nbformat_minor": 2
}
