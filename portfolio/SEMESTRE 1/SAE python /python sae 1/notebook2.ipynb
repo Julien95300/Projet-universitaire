{
 "cells": [
  {
   "cell_type": "markdown",
   "metadata": {
    "deletable": false,
    "editable": false,
    "run_control": {
     "frozen": true
    }
   },
   "source": [
    "# <center> Etude de communautés dans un réseau social</center>\n",
    "<center> SAE 1.01 / 2022 - 23 </center>\n",
    "\n"
   ]
  },
  {
   "cell_type": "markdown",
   "metadata": {
    "deletable": false,
    "editable": false,
    "run_control": {
     "frozen": true
    }
   },
   "source": [
    "Cette SAE est à faire en **binôme**.\n",
    "\n",
    "**Calendrier**\n",
    "- Un contrôle de 2h en lien avec le contenu de cette SAE aura lieu le mercredi **26 octobre** 2022.\n",
    "- Le projet est à rendre le vendredi **28 octobre** 2022. Les modalités de rendu vous seront précisées par votre enseignant.\n",
    "\n",
    "**Evaluation**\n",
    "- Le projet comptera pour 40% de la note de SAE 1.01. <BR>\n",
    "    Il sera particulièrement tenu compte de la qualité du code, des **commentaires** et **docstrings**, des fonctions de **tests unitaires** pour les fonctions renvoyant des résultats. <BR><BR>\n",
    "    \n",
    "- Le contrôle compte pour 60% de la note finale."
   ]
  },
  {
   "cell_type": "markdown",
   "metadata": {
    "deletable": false,
    "editable": false,
    "run_control": {
     "frozen": true
    }
   },
   "source": [
    "## <center> Sujet </center>\n",
    "\n",
    "Une *communauté* est un ensemble de personnes développant des interactions dans un réseau social.\n",
    "\n",
    "Dans ce projet, on étudie des communautés modélisées sous différentes formes. Pour cela, on développe des fonctions permettant d'extraire des informations relatives à ces réseaux. "
   ]
  },
  {
   "cell_type": "markdown",
   "metadata": {
    "deletable": false,
    "editable": false,
    "run_control": {
     "frozen": true
    }
   },
   "source": [
    "On modélise, dans un premier temps, les interactions entre personnes dans un tableau `amis` de chaînes de caractères contenant les prénoms des membres du réseau et tel que `amis[2*i]` a des interactions avec `amis[2*i+1]`.\n",
    "\n",
    "On suppose que chaque interaction n'est décrite qu'une seule fois dans le tableau, et qu'une personne n'a pas d'interaction avec elle-même.\n",
    "\n",
    "**Exemple** : "
   ]
  },
  {
   "cell_type": "code",
   "execution_count": null,
   "metadata": {
    "deletable": false,
    "editable": false
   },
   "outputs": [],
   "source": [
    "amis = [\"Alice\", \"Bob\", \"Alice\", \"Charlie\", \"Bob\", \"Denis\"]"
   ]
  },
  {
   "cell_type": "markdown",
   "metadata": {
    "deletable": false,
    "editable": false,
    "run_control": {
     "frozen": true
    }
   },
   "source": [
    "Ici, \n",
    "- Alice a des interactions Bob et Charlie, \n",
    "- Bob a des intractions avec Alice et Denis,\n",
    "- Charlie a des interactions avec Alice et\n",
    "- Denis a des interactions avec Bob."
   ]
  },
  {
   "cell_type": "markdown",
   "metadata": {
    "deletable": false,
    "editable": false,
    "run_control": {
     "frozen": true
    }
   },
   "source": [
    "#### Question préliminaire : Modélisation d'un réseau par un tableau\n",
    "\n",
    "Muriel, Yasmine et Joël sont amis. Yasmine est amie avec Thomas. \n",
    "Joël, Nassim, Andrea et Ali sont amis. Thomas est ami de Daria et Carole. Thierry, Axel et Léo sont amis. Léo est ami de Valentin qui est ami d'Andrea.\n",
    "\n",
    "- Construire un tableau `p_amis` qui modélise ce réseau d'amitié en selon le principe qui vient d'être décrit."
   ]
  },
  {
   "cell_type": "raw",
   "metadata": {},
   "source": [
    "Au début on avait fait ça comme tableau:\n",
    "p_amis= [\"Thomas\",\"Daria\",\"Thomas\",\"Yasmine\",\"Joël\",\"Yasmine\",\"Muriel\",\"Joël\",\"Nassim\",\"Joël\",\"Andrea\",\"Joël\",\"Ali\",\"Andrea\",\"Ali\",\"Nassim\",\"Andrea\",\"Valentin\",\"Léo\",\"Thierry\",\"Léo\",\"Axel\",\"Thierry\"]\n",
    "\n",
    "Mais quand nous l'avons transformé en dictionnaire avec la fonction dico_reseau et plus dans la fonction \n",
    "nb_amis_plus_pop, nous avons comparé nos résultats avec ce du mail envoyé par le professeur,nous avons constaté qu'il y a\n",
    "un problème dans notre tableau car ce programme marché bien pour le reste, donc en suite nous avons compris que amis[2*i] est ami\n",
    "avec amis[2*i+1] c'est à dire que pour quelqu'un est ami avec la personne d'indice i +1 il faut qu'il soit dans un indice pair du tableau,\n",
    "mais sa au début nous l'avions pas compris car on avait compris comme si amis[i] est ami avec amis[i+1].\n",
    "\n",
    "\n",
    "Donc après on réussi a créer ce tableau:\n",
    "\n",
    "\n",
    "p_amis = [\"Thomas\", \"Daria\", \"Thomas\", \"Carole\",\"Yasmine\", \"Muriel\", \"Yasmine\", \"Thomas\",\"Joël\", \"Yasmine\", \"Joël\", \"Muriel\", \"Joël\", \"Nassim\", \"Joël\", \"Ali\", \"Joël\", \"Andrea\",\"Nassim\", \"Andrea\", \"Nassim\", \"Ali\",\"Andrea\", \"Ali\",\"Léo\", \"Valentin\", \"Léo\", \"Axel\", \"Thierry\", \"Axel\", \"Thierry\", \"Léo\",\"Valentin\", \"Andrea\"]\n",
    "\n",
    "\n",
    "\n",
    "\n"
   ]
  },
  {
   "cell_type": "markdown",
   "metadata": {
    "deletable": false,
    "editable": false,
    "run_control": {
     "frozen": true
    }
   },
   "source": [
    "#### Question 1 : Nombre d'amis d'une personne\n",
    "\n",
    "- Étant donné un tableau `amis`, écrire une fonction `nb_amis(amis, prenom)` qui retourne le nombre d'amis de `prenom` à partir des données du tableau `amis`. "
   ]
  },
  {
   "cell_type": "raw",
   "metadata": {},
   "source": [
    "Alors on a procédé comme cela:\n",
    "Au début  on est partie du principe qu'on se déplace dans la boucle de deux en deux avec le schéma expliquer qui est que amis[2*i] est ami avec amis[2*i+1]dans l'énoncé, alors pour savoir si quelqu'un est ami avec quelqu'un alors il faut déja que prénom soit dans le tableau amis dans un indice pair et si la valeur de la case [2*i+1] n'est pas prénom alors cela veut dire que c'est son ami donc vu qu'on a crée une variable au début de la fonction alors on rajouté +1 pour au final a la sortie de la boucle on affiche le nombre d'ami de prénom.\n",
    "\n",
    "def nb_amis(amis, prenom):\n",
    "    \"\"\" retourne le nombre d'amis de prenom à partir des données du tableau amis.\"\"\"\n",
    "    i=0\n",
    "    ami=0\n",
    "    while i<len(amis):   # on rentre dans la boucle si et seulement si i est strictement inférieur à la longueur du tableau amis\n",
    "        \n",
    "        if prenom in amis[i]and prenom!=amis[i+1] : # si  prenom est égale à l'indice i du tableau amis et si prenom n'est pas égale à l'indice i+1 du tableau amis\n",
    "            ami+=1\n",
    "       \n",
    "        i+=2 # itération +2\n",
    "\n",
    "    return ami\n",
    "\n",
    "\n",
    "    \n"
   ]
  },
  {
   "cell_type": "markdown",
   "metadata": {
    "deletable": false,
    "editable": false,
    "run_control": {
     "frozen": true
    }
   },
   "source": [
    "#### Question 2 : Nombre de membres d'un réseau social \n",
    "\n",
    "- Ecrire une fonction `taille_reseau(amis)` qui à partir d'un tableau `amis`retourne le nombre de personnes distinctes participant à ce réseau social."
   ]
  },
  {
   "cell_type": "raw",
   "metadata": {},
   "source": [
    "Alors au début on comptait prendre une valeur du tableau amis et les comparés avec les autres valeurs du tableau mais\n",
    "cela nous semblait trop compliqué en plus de cela après plusieurs tests nous n'avons pas eu le résultat souhaité donc\n",
    "on a relu les cours sur les tableaux et les suivants en espérant trouver une solution,puis ensuite nous avons revus\n",
    "sur le cours que nous pouvons utiliser la fonction in donc on a eu l'idée de crée un tableau vide avant la boucle,\n",
    "comme ça à chaque élément du tableau amis s'il y est déja dans le tableau membre alors on fait en sorte de pas l'ajouté,\n",
    "donc à reussi a trouvé cette solution après plusieurs tests:\n",
    "\n",
    "\n",
    "\n",
    "\n",
    "def taille_reseau(amis):\n",
    "   \"\"\"retourne le nombre de personnes distinctes participant à ce réseau social à partir d'un tableau amis.\"\"\"\n",
    "\n",
    "    i=0\n",
    "    membre=[] # création d'un tableau vide\n",
    "    while i<len(amis): # on rentre dans la boucle si et seulement si i est strictement inférieur à la longueur du tableau amis\n",
    "        if amis[i] not in membre: # si l'indice i du tableau amis n'est pas présent dans le tableau membre\n",
    "            membre.append(amis[i]) # alors l'indice i du tableau amis sera ajouté au tableau membre   \n",
    "        i+=1 #itération +1\n",
    "    return(len(membre))\n",
    "    \n"
   ]
  },
  {
   "cell_type": "markdown",
   "metadata": {
    "deletable": false,
    "editable": false,
    "run_control": {
     "frozen": true
    }
   },
   "source": [
    "#### Question 3 :  Lecture des données d'un réseau à partir d'un fichier\n",
    "On suppose que les données sur un réseau social sont stockées dans un fichier CSV de la manière suivante :\n",
    "```\n",
    "prenom1;prenom2\n",
    "prenom3;prenom4\n",
    "prenom5;prenom6\n",
    "...\n",
    "```\n",
    "Autrement dit, chaque ligne du fichier contient une paire de prénoms séparés par un `';'` correspondant à deux personnes ayant des interactions. \n",
    "\n",
    "**NB** : Quatre fichiers CSV de ce type sont fournis dans le répertoire `files/`, il s'agit des fichiers`Communaute1.csv`, `Communaute2.csv`,`Communaute3.csv` et `Communaute4.csv`. \n",
    "Il est recommandé d'en fabriquer d'autres. \n",
    "\n",
    "- Ecrire une fonction `lecture_reseau(path)` prenant en paramètre un chemin vers un tel fichier CSV et retournant un tableau modélisant les interactions entre les personnes du fichier."
   ]
  },
  {
   "cell_type": "raw",
   "metadata": {},
   "source": [
    "Alors on a procédé comme cela:\n",
    "D'abord on a réflichi comment on allait ouvrir le fichier et en quel mode exactement puis en relissant les corrigés des tp, on a su comment en quel mode fallait l'ouvrir et comment on allait procédé pour avoir l'affichage souhaité,donc on crée un tableau vide pour ensuite le remplir dans la boucle. Donc vu qu'on a relie les corrigés on a vu qu'il fallait relier une ligne du fichier à une variable et supprimer les espaces et pour l'utilisation du split pour qu'il retourne un tableau et on ajoute ses éléments dans notre tableau tab, donc après plusieurs tests on a:\n",
    "\n",
    "\n",
    "\n",
    "\n",
    "def lecture_reseau(path):\n",
    "    \"\"\"retourne un tableau modélisant les interactions entre les personnes d'un fichier csv\"\"\"\n",
    "    \n",
    "    fichier=open(path,\"r\") #ouverture du fichier en mode lecture \n",
    "    ligne=fichier.readline() # lecture de la première ligne du fichier\n",
    "    \n",
    "    tab=[] # création d'un tableau vide\n",
    "    while ( '' != ligne): # on rentre dans la boucle uniquement si la ligne du fichier n'est pas vide\n",
    "        s=ligne.strip() # on enlève les espaces \n",
    "        l=s.split(';') # on sépare la chaine s où il y a un séparateur ';' et retourne le tableau des chaines obtenues.\n",
    "\n",
    "       \n",
    "        tab.append(l[0])# on ajoute l'indice 0 du tableau l au tableau tab\n",
    "        tab.append(l[1]) # on ajoute l'indice 1 du tableau l au tableau tab\n",
    "        ligne=fichier.readline() #lecture de la ligne suivante\n",
    "    \n",
    "    \n",
    "    fichier.close() # fermeture du fichier\n",
    "    return tab\n",
    "\n"
   ]
  },
  {
   "cell_type": "markdown",
   "metadata": {
    "deletable": false,
    "editable": false,
    "run_control": {
     "frozen": true
    }
   },
   "source": [
    "#### Question 4 : Modélisation d'un réseau par un dictionnaire\n",
    "On préfère pour la suite, utiliser une modélisation du réseau social par un dictionnaire dont où les clés sont les prénoms des personnes du réseau et la valeur associé à une clé est le tableau des amis de la personne indiquée par la clé.\n",
    "\n",
    "- A partir d'un tableau `amis` modélisant les interactions entre personnes d'un réseau, écrire une fonction `dico_reseau(amis)` qui retourne un dictionnaire dont les clés sont les prénoms des membres du réseau et les valeurs le tableau de leurs amis."
   ]
  },
  {
   "cell_type": "raw",
   "metadata": {},
   "source": [
    "Cette fois si on a eu beaucoup moins de mal que pour les précédentes questions car le raisonnement était court:\n",
    "on a su directement que fallait créer un dictionnaire vide pour pouvoir le remplir dans la boucle, notre raisonnement était que si l'élément d'indice i du tableau amis n'est pas dans les clés du dictionnaire dico alors on crée une clé amis[i] avec pour valeur amis[i+1], mais si ce n'est pas le cas alors on ajoute amis[i+1] au tableau des valeurs de la clé amis[i]. Donc voici le résultat après plusieurs test:\n",
    "\n",
    "\n",
    "\n",
    "\n",
    "def dico_reseau(amis):\n",
    "    \"\"\"retourne un dictionnaire dont les clés sont les prénoms des membres du réseau et les valeurs le tableau de leurs amis à partir d'un tableau amsi\"\"\"\n",
    "    dico={} # création d'un dictionnaire vide\n",
    "    i=0\n",
    "    \n",
    "    while i<len(amis)-1: # on rentre dans la boucle si et seulement si i est strictement inférieur à la longueur du tableau amis -1, le -1 pour comparé la dernière valeur du tableau amis\n",
    "        if amis[i] not in list(dico): # si l'indice i du tableau amis n'est pas dans les clés du dictionnaire dico\n",
    "            dico[amis[i]]=[amis[i+1]] # on crée une clé qui est l'indice i du tableau amis qui a pour valeur l'indice i+1 du tableau amis \n",
    "        else:\n",
    "            dico[amis[i]].append(amis[i+1])# on ajoute juste l'indice i+1 au tableau des valeurs du dictionnaire dico\n",
    "       \n",
    "        \n",
    "        i+=1 # itération +1\n",
    "    \n",
    "    return (dico)\n",
    "    \n"
   ]
  },
  {
   "cell_type": "markdown",
   "metadata": {
    "deletable": false,
    "editable": false,
    "run_control": {
     "frozen": true
    }
   },
   "source": [
    "#### Question 5 : Nombre d'amis des personnes les plus populaires\n",
    "\n",
    "- A partir d'un dictionnaire `dico_reseau` modélisant les interactions dans un réseau d'amis, écrire une fonction `nb_amis_plus_pop (dico_reseau)` qui retourne le nombre d'amis des personnes les plus populaires du réseau."
   ]
  },
  {
   "cell_type": "raw",
   "metadata": {},
   "source": [
    "Alors vu qu'on savait que les valeurs des clés sont un tableau avec les amis, alors fallait affecter à une variable les valeurs du dictionnaire, donc en mesurant la longueur de chaque élément du tableau valeurs pour pouvoir savoir celui qui a le plus d'amis, donc quand on se déplace dans le tableau alors pour avoir le max donc fallait ajouter un if pour que si la variable res qui était initialisé à zéro est plus petit que la longueur de l'élément  du tableau valeurs, alors res est égale à la longueur de l'élément du tableau valeurs, donc à la fin on a le nombre d'amis des personnes les plus populaires, après plusieurs tests on a :\n",
    "\n",
    "\n",
    "\n",
    "def nb_amis_plus_pop(dico_reseau):\n",
    "    \"\"\"  retourne le nombre d'amis des personnes les plus populaires du réseau à partir d'un dictionnaire dico_reseau.\"\"\"\n",
    "    \n",
    "    valeurs=list(dico_reseau.values())# on stocke toutes les valeurs du dictionnaire dico_reseau dans la variable valeurs\n",
    "    i=0\n",
    "    res=0\n",
    "    while i<len(valeurs): #on rentre dans la boucle uniquement si i est strictement inférieur à la longueur du tableau\n",
    "        \n",
    "        if len(valeurs[i])>res: # si la longueur de l'indice i du tableau valeurs est strictement supérieur à res\n",
    "            res=len(valeurs[i]) # alors res égale à la longueur de l'indice i du tableau valeurs\n",
    "        \n",
    "        i+=1 # itération +1\n",
    "    return(res)\n",
    "        \n",
    "\n"
   ]
  },
  {
   "cell_type": "markdown",
   "metadata": {
    "deletable": false,
    "editable": false,
    "run_control": {
     "frozen": true
    }
   },
   "source": [
    "#### Question 6 : Personnes les plus populaires\n",
    "\n",
    "- A partir d'un dictionnaire `dico_reseau` modélisant les interactions dans un réseau d'amis, écrire une fonction `les_plus_pop (dico_reseau)` qui retourne un tableau contenant les prénoms de toutes les personnes les plus populaires du réseau."
   ]
  },
  {
   "cell_type": "raw",
   "metadata": {},
   "source": [
    "Après avoir fais la question précédente on a su qu'il fallait utiliser la fonction précédente en l'affectant à une variable res, qu'on allait avoir besoin de créer deux tableaux avec une avec toutes les clés et une avec les valeurs, donc on a procédé ainsi, d'abord il fallait créer un tableau vide pour pouvoir le remplir dans la boucle ensuite si res est égale à la longueur de l'élément d'indice de i du tableau valeurs alors on ajoute l'élément du même indice mais du tableau cles dans le tableau tab. Et voici après plusieurs tests: \n",
    "\n",
    "\n",
    "\n",
    "def les_plus_pop(dico_reseau):\n",
    "    \"\"\" retourne un tableau contenant les prénoms de toutes les personnes les plus populaires du réseau à partir d'un dictionnaire dico_réseau\"\"\"\n",
    "    \n",
    "    res=nb_amis_plus_pop(dico_reseau) # on affecte le resultat de la fonction nb_amis_plus_pop à res\n",
    "    cles=list(dico_reseau) # création d'un tableau des cles du dico_reseau\n",
    "    valeurs=list(dico_reseau.values()) # création d'un tableau des valeurs de dico_reseau \n",
    "    tab=[] #création d'un tableau vide\n",
    "    i=0\n",
    "    while i<len(cles): #on rentre dans la boucles uniquement si i est strictement inférieur à la longueur du tableau cles\n",
    "        if res==len(valeurs[i]): # si res est égale à la longueur de l'indice i du tableau valeurs\n",
    "            tab.append(cles[i]) # on ajoute l'indice i du tableau cles au tableau tab\n",
    "        i+=1 # itération +1\n",
    "    return tab\n",
    "\n"
   ]
  },
  {
   "cell_type": "code",
   "execution_count": null,
   "metadata": {},
   "outputs": [],
   "source": []
  }
 ],
 "metadata": {
  "kernelspec": {
   "display_name": "Python 3 (ipykernel)",
   "language": "python",
   "name": "python3"
  },
  "language_info": {
   "codemirror_mode": {
    "name": "ipython",
    "version": 3
   },
   "file_extension": ".py",
   "mimetype": "text/x-python",
   "name": "python",
   "nbconvert_exporter": "python",
   "pygments_lexer": "ipython3",
   "version": "3.9.12"
  },
  "latex_envs": {
   "LaTeX_envs_menu_present": true,
   "autoclose": false,
   "autocomplete": true,
   "bibliofile": "biblio.bib",
   "cite_by": "apalike",
   "current_citInitial": 1,
   "eqLabelWithNumbers": true,
   "eqNumInitial": 1,
   "hotkeys": {
    "equation": "Ctrl-E",
    "itemize": "Ctrl-I"
   },
   "labels_anchors": false,
   "latex_user_defs": false,
   "report_style_numbering": false,
   "user_envs_cfg": false
  }
 },
 "nbformat": 4,
 "nbformat_minor": 2
}
